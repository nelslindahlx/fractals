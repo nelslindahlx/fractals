{
  "cells": [
    {
      "cell_type": "markdown",
      "metadata": {
        "id": "view-in-github",
        "colab_type": "text"
      },
      "source": [
        "<a href=\"https://colab.research.google.com/github/nelslindahlx/fractals/blob/main/prompt_draw_a_fractal.ipynb\" target=\"_parent\"><img src=\"https://colab.research.google.com/assets/colab-badge.svg\" alt=\"Open In Colab\"/></a>"
      ]
    },
    {
      "cell_type": "code",
      "execution_count": 9,
      "metadata": {
        "colab": {
          "base_uri": "https://localhost:8080/",
          "height": 435
        },
        "id": "UaqaksKBLklM",
        "outputId": "472bad50-aebb-4f2c-96e5-39c9b54dca00"
      },
      "outputs": [
        {
          "output_type": "display_data",
          "data": {
            "text/plain": [
              "<Figure size 640x480 with 1 Axes>"
            ],
            "image/png": "[encoded data removed]"
          },
          "metadata": {}
        }
      ],
      "source": [
        "# prompt: draw a fractal\n",
        "\n",
        "## Import the necessary libraries\n",
        "import matplotlib.pyplot as plt\n",
        "import numpy as np\n",
        "\n",
        "## Define the function to draw the fractal\n",
        "def draw_fractal(level):\n",
        "    # Create a blank canvas\n",
        "    canvas = np.zeros((2**level, 2**level))\n",
        "\n",
        "    # Start with a single pixel in the center\n",
        "    canvas[0][0] = 1\n",
        "\n",
        "    # Recursively draw the rest of the fractal\n",
        "    for i in range(1, 2**level):\n",
        "        for j in range(1, 2**level):\n",
        "            # Calculate the coordinates of the parent pixel\n",
        "            x_parent = (i + j) // 2\n",
        "            y_parent = (i - j) // 2\n",
        "\n",
        "            # Calculate the color of the pixel\n",
        "            color = canvas[x_parent][y_parent]\n",
        "\n",
        "            # Draw the pixel\n",
        "            canvas[i][j] = color\n",
        "\n",
        "    # Plot the canvas\n",
        "    plt.imshow(canvas, cmap='Greys_r')\n",
        "    plt.show()\n",
        "\n",
        "## Draw the fractal\n",
        "draw_fractal(8)\n"
      ]
    }
  ],
  "metadata": {
    "colab": {
      "provenance": [],
      "authorship_tag": "ABX9TyODI8dEp+vWEwOYKUVJESxz",
      "include_colab_link": true
    },
    "kernelspec": {
      "display_name": "Python 3",
      "name": "python3"
    },
    "language_info": {
      "name": "python"
    }
  },
  "nbformat": 4,
  "nbformat_minor": 0
}